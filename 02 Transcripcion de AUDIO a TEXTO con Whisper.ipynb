{
 "cells": [
  {
   "cell_type": "markdown",
   "id": "7003e474",
   "metadata": {
    "id": "7003e474"
   },
   "source": [
    "### Master oficial en Big Data & Data Science - Universidad Internacional de Valencia (VIU)"
   ]
  },
  {
   "cell_type": "markdown",
   "id": "cb67973d",
   "metadata": {
    "id": "cb67973d"
   },
   "source": [
    "<font color=\"darkblue\">\n",
    "\n",
    "-   **Alumno:** Franco Rojas Yucra\n",
    "-   **TFM:** Sistema para la busqueda de conocimientos en textos de documentos multimedia\n",
    "-   **Email:** franco.rojasyucra@alumnos.viu.es\n",
    "-   **Fecha:** Octubre de 2023\n",
    "<font color=\"black\">"
   ]
  },
  {
   "cell_type": "markdown",
   "id": "bc260801",
   "metadata": {
    "id": "bc260801"
   },
   "source": [
    "## 02 Transcripcion de AUDIO a TEXTO con Whisper"
   ]
  },
  {
   "cell_type": "markdown",
   "id": "3db5cd08",
   "metadata": {
    "id": "3db5cd08"
   },
   "source": [
    "Librerías generales"
   ]
  },
  {
   "cell_type": "code",
   "execution_count": 1,
   "id": "a2750d2c",
   "metadata": {
    "executionInfo": {
     "elapsed": 1198,
     "status": "ok",
     "timestamp": 1695587250352,
     "user": {
      "displayName": "FRANCO ROJAS YUCRA",
      "userId": "16636846982017893586"
     },
     "user_tz": 300
    },
    "id": "a2750d2c"
   },
   "outputs": [],
   "source": [
    "import pandas as pd\n",
    "import os"
   ]
  },
  {
   "cell_type": "code",
   "execution_count": 3,
   "id": "826726b5",
   "metadata": {
    "executionInfo": {
     "elapsed": 493,
     "status": "ok",
     "timestamp": 1695587295187,
     "user": {
      "displayName": "FRANCO ROJAS YUCRA",
      "userId": "16636846982017893586"
     },
     "user_tz": 300
    },
    "id": "54519575"
   },
   "outputs": [],
   "source": [
    "pd.set_option('display.max_columns',None) #motrar todas las columnas"
   ]
  },
  {
   "cell_type": "markdown",
   "id": "6cec7072",
   "metadata": {},
   "source": [
    "Estableciendo directorio trabajo"
   ]
  },
  {
   "cell_type": "code",
   "execution_count": 2,
   "id": "Ul3-qfIfN-X8",
   "metadata": {
    "colab": {
     "base_uri": "https://localhost:8080/"
    },
    "executionInfo": {
     "elapsed": 34112,
     "status": "ok",
     "timestamp": 1695587290609,
     "user": {
      "displayName": "FRANCO ROJAS YUCRA",
      "userId": "16636846982017893586"
     },
     "user_tz": 300
    },
    "id": "Ul3-qfIfN-X8",
    "outputId": "af73aed9-06df-4156-bf8e-85366f12383e"
   },
   "outputs": [
    {
     "name": "stdout",
     "output_type": "stream",
     "text": [
      "Mounted at /content/drive\n"
     ]
    }
   ],
   "source": [
    "from google.colab import drive\n",
    "drive.mount('/content/drive')"
   ]
  },
  {
   "cell_type": "code",
   "execution_count": 4,
   "id": "9-Lc4ywwNtjx",
   "metadata": {
    "colab": {
     "base_uri": "https://localhost:8080/"
    },
    "executionInfo": {
     "elapsed": 459,
     "status": "ok",
     "timestamp": 1695587298457,
     "user": {
      "displayName": "FRANCO ROJAS YUCRA",
      "userId": "16636846982017893586"
     },
     "user_tz": 300
    },
    "id": "9-Lc4ywwNtjx",
    "outputId": "bc2c7244-7a5a-4911-e7f4-78ac09a5e5bb"
   },
   "outputs": [
    {
     "name": "stdout",
     "output_type": "stream",
     "text": [
      "Ruta actual: /content\n",
      "Ruta donde se almacenaran archivos del Programa1: /content/drive/MyDrive/TFM_VIU_Franco_Rojas\n"
     ]
    }
   ],
   "source": [
    "print('Ruta actual: '+os.getcwd())\n",
    "os.chdir('/content/drive/MyDrive/TFM_VIU_Franco_Rojas')\n",
    "print('Ruta donde se almacenaran archivos del Programa1: '+os.getcwd())"
   ]
  },
  {
   "cell_type": "markdown",
   "id": "d15606eb",
   "metadata": {
    "id": "d15606eb"
   },
   "source": [
    "Lista de documentos multimedia de Youtube"
   ]
  },
  {
   "cell_type": "code",
   "execution_count": 5,
   "id": "cb43b88f",
   "metadata": {
    "executionInfo": {
     "elapsed": 1833,
     "status": "ok",
     "timestamp": 1695587352899,
     "user": {
      "displayName": "FRANCO ROJAS YUCRA",
      "userId": "16636846982017893586"
     },
     "user_tz": 300
    },
    "id": "cb43b88f"
   },
   "outputs": [],
   "source": [
    "df_listadoc=pd.read_excel('lista_documentos.xlsx')"
   ]
  },
  {
   "cell_type": "code",
   "execution_count": 6,
   "id": "f06ff65d",
   "metadata": {
    "colab": {
     "base_uri": "https://localhost:8080/",
     "height": 293
    },
    "executionInfo": {
     "elapsed": 496,
     "status": "ok",
     "timestamp": 1695587356717,
     "user": {
      "displayName": "FRANCO ROJAS YUCRA",
      "userId": "16636846982017893586"
     },
     "user_tz": 300
    },
    "id": "f06ff65d",
    "outputId": "843f6441-493f-4e19-82d5-507980d6a481",
    "scrolled": true
   },
   "outputs": [
    {
     "data": {
      "text/html": [
       "<div>\n",
       "<style scoped>\n",
       "    .dataframe tbody tr th:only-of-type {\n",
       "        vertical-align: middle;\n",
       "    }\n",
       "\n",
       "    .dataframe tbody tr th {\n",
       "        vertical-align: top;\n",
       "    }\n",
       "\n",
       "    .dataframe thead th {\n",
       "        text-align: right;\n",
       "    }\n",
       "</style>\n",
       "<table border=\"1\" class=\"dataframe\">\n",
       "  <thead>\n",
       "    <tr style=\"text-align: right;\">\n",
       "      <th></th>\n",
       "      <th>id_doc</th>\n",
       "      <th>tema</th>\n",
       "      <th>titulo_doc</th>\n",
       "      <th>url_doc</th>\n",
       "      <th>duracion</th>\n",
       "    </tr>\n",
       "  </thead>\n",
       "  <tbody>\n",
       "    <tr>\n",
       "      <th>0</th>\n",
       "      <td>DOC0001</td>\n",
       "      <td>Internet de las cosas</td>\n",
       "      <td>01 - Curso Internet de las Cosas - Introducción</td>\n",
       "      <td>https://www.youtube.com/watch?v=5-MQj1kD9-I</td>\n",
       "      <td>8:44</td>\n",
       "    </tr>\n",
       "    <tr>\n",
       "      <th>1</th>\n",
       "      <td>DOC0002</td>\n",
       "      <td>Internet de las cosas</td>\n",
       "      <td>02 - Curso Internet de las Cosas - Laboratorio...</td>\n",
       "      <td>https://www.youtube.com/watch?v=GExTkcH5pTg</td>\n",
       "      <td>11:23</td>\n",
       "    </tr>\n",
       "    <tr>\n",
       "      <th>2</th>\n",
       "      <td>DOC0003</td>\n",
       "      <td>Introduccion IA</td>\n",
       "      <td>¿QUÉ ES LA INTELIGENCIA ARTIFICIAL? | 01 Intel...</td>\n",
       "      <td>https://www.youtube.com/watch?v=KmhLHDONTXY</td>\n",
       "      <td>12:10</td>\n",
       "    </tr>\n",
       "    <tr>\n",
       "      <th>3</th>\n",
       "      <td>DOC0004</td>\n",
       "      <td>Introduccion IA</td>\n",
       "      <td>¿QUÉ ES LA MACHINE LEARNING? | 02 Inteligencia...</td>\n",
       "      <td>https://www.youtube.com/watch?v=bFQmEx9T29U</td>\n",
       "      <td>14:19</td>\n",
       "    </tr>\n",
       "    <tr>\n",
       "      <th>4</th>\n",
       "      <td>DOC0005</td>\n",
       "      <td>Introduccion IA</td>\n",
       "      <td>¿QUÉ ES DEEP LEARNING? | 03 Inteligencia Artif...</td>\n",
       "      <td>https://www.youtube.com/watch?v=xuSnmWZagN8</td>\n",
       "      <td>11:40</td>\n",
       "    </tr>\n",
       "  </tbody>\n",
       "</table>\n",
       "</div>"
      ],
      "text/plain": [
       "    id_doc                   tema  \\\n",
       "0  DOC0001  Internet de las cosas   \n",
       "1  DOC0002  Internet de las cosas   \n",
       "2  DOC0003        Introduccion IA   \n",
       "3  DOC0004        Introduccion IA   \n",
       "4  DOC0005        Introduccion IA   \n",
       "\n",
       "                                          titulo_doc  \\\n",
       "0    01 - Curso Internet de las Cosas - Introducción   \n",
       "1  02 - Curso Internet de las Cosas - Laboratorio...   \n",
       "2  ¿QUÉ ES LA INTELIGENCIA ARTIFICIAL? | 01 Intel...   \n",
       "3  ¿QUÉ ES LA MACHINE LEARNING? | 02 Inteligencia...   \n",
       "4  ¿QUÉ ES DEEP LEARNING? | 03 Inteligencia Artif...   \n",
       "\n",
       "                                       url_doc duracion  \n",
       "0  https://www.youtube.com/watch?v=5-MQj1kD9-I     8:44  \n",
       "1  https://www.youtube.com/watch?v=GExTkcH5pTg    11:23  \n",
       "2  https://www.youtube.com/watch?v=KmhLHDONTXY    12:10  \n",
       "3  https://www.youtube.com/watch?v=bFQmEx9T29U    14:19  \n",
       "4  https://www.youtube.com/watch?v=xuSnmWZagN8    11:40  "
      ]
     },
     "execution_count": 6,
     "metadata": {},
     "output_type": "execute_result"
    }
   ],
   "source": [
    "df_listadoc.head()"
   ]
  },
  {
   "cell_type": "code",
   "execution_count": 7,
   "id": "24144f8d",
   "metadata": {},
   "outputs": [
    {
     "data": {
      "text/plain": [
       "(150, 5)"
      ]
     },
     "execution_count": 7,
     "metadata": {},
     "output_type": "execute_result"
    }
   ],
   "source": [
    "df_listadoc.shape"
   ]
  },
  {
   "cell_type": "markdown",
   "id": "69a4acb2",
   "metadata": {
    "id": "69a4acb2"
   },
   "source": [
    "Instalación de modelo Whisper desde Github"
   ]
  },
  {
   "cell_type": "code",
   "execution_count": 9,
   "id": "b4467ae0",
   "metadata": {},
   "outputs": [],
   "source": [
    "!pip install git+https://github.com/openai/whisper.git"
   ]
  },
  {
   "cell_type": "code",
   "execution_count": 10,
   "id": "CYU5A_clQ3Pa",
   "metadata": {
    "colab": {
     "base_uri": "https://localhost:8080/"
    },
    "executionInfo": {
     "elapsed": 10610,
     "status": "ok",
     "timestamp": 1695587435615,
     "user": {
      "displayName": "FRANCO ROJAS YUCRA",
      "userId": "16636846982017893586"
     },
     "user_tz": 300
    },
    "id": "CYU5A_clQ3Pa",
    "outputId": "c815fdb2-9434-4c40-c7e1-cd9ea5277483"
   },
   "outputs": [
    {
     "name": "stdout",
     "output_type": "stream",
     "text": [
      "\u001b[33m\r",
      "0% [Working]\u001b[0m\r",
      "            \r",
      "Get:1 https://cloud.r-project.org/bin/linux/ubuntu jammy-cran40/ InRelease [3,626 B]\n",
      "Hit:2 https://developer.download.nvidia.com/compute/cuda/repos/ubuntu2204/x86_64  InRelease\n",
      "Hit:3 http://archive.ubuntu.com/ubuntu jammy InRelease\n",
      "Get:4 http://archive.ubuntu.com/ubuntu jammy-updates InRelease [119 kB]\n",
      "Get:5 http://security.ubuntu.com/ubuntu jammy-security InRelease [110 kB]\n",
      "Hit:6 https://ppa.launchpadcontent.net/c2d4u.team/c2d4u4.0+/ubuntu jammy InRelease\n",
      "Get:7 http://archive.ubuntu.com/ubuntu jammy-backports InRelease [109 kB]\n",
      "Get:8 http://archive.ubuntu.com/ubuntu jammy-updates/universe amd64 Packages [1,260 kB]\n",
      "Get:9 https://ppa.launchpadcontent.net/deadsnakes/ppa/ubuntu jammy InRelease [18.1 kB]\n",
      "Get:10 http://archive.ubuntu.com/ubuntu jammy-updates/main amd64 Packages [1,283 kB]\n",
      "Get:11 http://archive.ubuntu.com/ubuntu jammy-backports/main amd64 Packages [50.4 kB]\n",
      "Get:12 http://archive.ubuntu.com/ubuntu jammy-backports/universe amd64 Packages [28.1 kB]\n",
      "Hit:13 https://ppa.launchpadcontent.net/graphics-drivers/ppa/ubuntu jammy InRelease\n",
      "Hit:14 https://ppa.launchpadcontent.net/ubuntugis/ppa/ubuntu jammy InRelease\n",
      "Get:15 https://ppa.launchpadcontent.net/deadsnakes/ppa/ubuntu jammy/main amd64 Packages [21.8 kB]\n",
      "Fetched 3,003 kB in 4s (759 kB/s)\n",
      "Reading package lists... Done\n",
      "Building dependency tree... Done\n",
      "Reading state information... Done\n",
      "18 packages can be upgraded. Run 'apt list --upgradable' to see them.\n",
      "Reading package lists... Done\n",
      "Building dependency tree... Done\n",
      "Reading state information... Done\n",
      "ffmpeg is already the newest version (7:4.4.2-0ubuntu0.22.04.1).\n",
      "0 upgraded, 0 newly installed, 0 to remove and 18 not upgraded.\n"
     ]
    }
   ],
   "source": [
    "!sudo apt update && sudo apt install ffmpeg"
   ]
  },
  {
   "cell_type": "markdown",
   "id": "98cb21bf",
   "metadata": {
    "id": "98cb21bf"
   },
   "source": [
    "Se carga el modelo \"medium\" de Whisper"
   ]
  },
  {
   "cell_type": "code",
   "execution_count": 11,
   "id": "605c2b20",
   "metadata": {
    "colab": {
     "base_uri": "https://localhost:8080/"
    },
    "executionInfo": {
     "elapsed": 40140,
     "status": "ok",
     "timestamp": 1695587479740,
     "user": {
      "displayName": "FRANCO ROJAS YUCRA",
      "userId": "16636846982017893586"
     },
     "user_tz": 300
    },
    "id": "605c2b20",
    "outputId": "c010bafd-f369-4dae-a6be-4d1cffe6db70"
   },
   "outputs": [
    {
     "name": "stderr",
     "output_type": "stream",
     "text": [
      "100%|█████████████████████████████████████| 1.42G/1.42G [00:16<00:00, 93.6MiB/s]\n"
     ]
    }
   ],
   "source": [
    "import whisper\n",
    "model1=whisper.load_model(\"medium\")"
   ]
  },
  {
   "cell_type": "markdown",
   "id": "ab958d7d",
   "metadata": {
    "id": "ab958d7d"
   },
   "source": [
    "Transcripción de audio a texto con Whisper"
   ]
  },
  {
   "cell_type": "code",
   "execution_count": 12,
   "id": "646d112e",
   "metadata": {
    "executionInfo": {
     "elapsed": 471,
     "status": "ok",
     "timestamp": 1695587484135,
     "user": {
      "displayName": "FRANCO ROJAS YUCRA",
      "userId": "16636846982017893586"
     },
     "user_tz": 300
    },
    "id": "646d112e"
   },
   "outputs": [],
   "source": [
    "lst_audios=list(df_listadoc.id_doc)"
   ]
  },
  {
   "cell_type": "code",
   "execution_count": 13,
   "id": "798287f7",
   "metadata": {
    "colab": {
     "base_uri": "https://localhost:8080/"
    },
    "executionInfo": {
     "elapsed": 1178091,
     "status": "ok",
     "timestamp": 1695595392327,
     "user": {
      "displayName": "FRANCO ROJAS YUCRA",
      "userId": "16636846982017893586"
     },
     "user_tz": 300
    },
    "id": "798287f7",
    "outputId": "64c8c0b0-b4f3-4e59-b886-93b37f0f0b90"
   },
   "outputs": [
    {
     "name": "stdout",
     "output_type": "stream",
     "text": [
      "CPU times: user 2h 7min 37s, sys: 24.1 s, total: 2h 8min 1s\n",
      "Wall time: 2h 11min 21s\n"
     ]
    }
   ],
   "source": [
    "%%time\n",
    "for id_doc in lst_audios:\n",
    "    transcribe=model1.transcribe(\"audio_documentos/\"+id_doc+\"_audio.flac\")\n",
    "    texto_tr=transcribe['text']\n",
    "    g = open(\"trancripcion_whisper/\"+id_doc+\"_text.txt\", \"a\")\n",
    "    print(texto_tr,file=g)\n",
    "    g.close()"
   ]
  },
  {
   "cell_type": "code",
   "execution_count": null,
   "id": "aeb98548",
   "metadata": {
    "id": "aeb98548"
   },
   "outputs": [],
   "source": []
  },
  {
   "cell_type": "code",
   "execution_count": null,
   "id": "81c964a0",
   "metadata": {
    "id": "81c964a0"
   },
   "outputs": [],
   "source": []
  },
  {
   "cell_type": "code",
   "execution_count": null,
   "id": "21fa0f57",
   "metadata": {
    "id": "21fa0f57"
   },
   "outputs": [],
   "source": []
  },
  {
   "cell_type": "code",
   "execution_count": null,
   "id": "d6ce4c40",
   "metadata": {
    "id": "d6ce4c40"
   },
   "outputs": [],
   "source": []
  }
 ],
 "metadata": {
  "accelerator": "GPU",
  "colab": {
   "gpuType": "T4",
   "provenance": []
  },
  "kernelspec": {
   "display_name": "Python 3 (ipykernel)",
   "language": "python",
   "name": "python3"
  },
  "language_info": {
   "codemirror_mode": {
    "name": "ipython",
    "version": 3
   },
   "file_extension": ".py",
   "mimetype": "text/x-python",
   "name": "python",
   "nbconvert_exporter": "python",
   "pygments_lexer": "ipython3",
   "version": "3.9.12"
  }
 },
 "nbformat": 4,
 "nbformat_minor": 5
}
