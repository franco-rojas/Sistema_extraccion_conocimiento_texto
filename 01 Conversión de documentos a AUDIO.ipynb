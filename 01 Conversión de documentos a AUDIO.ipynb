{
 "cells": [
  {
   "cell_type": "markdown",
   "id": "b841c991",
   "metadata": {},
   "source": [
    "### Master oficial en Big Data & Data Science - Universidad Internacional de Valencia (VIU)"
   ]
  },
  {
   "cell_type": "markdown",
   "id": "38a94483",
   "metadata": {},
   "source": [
    "<font color=\"darkblue\">\n",
    "\n",
    "-   **Alumno:** Franco Rojas Yucra\n",
    "-   **TFM:** Sistema para la busqueda de conocimientos en textos de documentos multimedia\n",
    "-   **Email:** franco.rojasyucra@alumnos.viu.es\n",
    "-   **Fecha:** Octubre de 2023\n",
    "<font color=\"black\">"
   ]
  },
  {
   "cell_type": "markdown",
   "id": "0cd4a2b0",
   "metadata": {},
   "source": [
    "## 01 Conversion de documentos a AUDIO"
   ]
  },
  {
   "cell_type": "markdown",
   "id": "fc67cae7",
   "metadata": {},
   "source": [
    "Librerías generales"
   ]
  },
  {
   "cell_type": "code",
   "execution_count": 1,
   "id": "3b5b62ba",
   "metadata": {},
   "outputs": [],
   "source": [
    "import pandas as pd\n",
    "from youtube2text import Youtube2Text"
   ]
  },
  {
   "cell_type": "code",
   "execution_count": 2,
   "id": "1a4090d8",
   "metadata": {},
   "outputs": [],
   "source": [
    "pd.set_option('display.max_columns',None) #motrar todas las columnas"
   ]
  },
  {
   "cell_type": "markdown",
   "id": "4a54b3dd",
   "metadata": {},
   "source": [
    "Lista de documentos multimedia de Youtube"
   ]
  },
  {
   "cell_type": "code",
   "execution_count": 3,
   "id": "109f6a0d",
   "metadata": {},
   "outputs": [],
   "source": [
    "df_listadoc=pd.read_excel('lista_documentos.xlsx')"
   ]
  },
  {
   "cell_type": "code",
   "execution_count": 4,
   "id": "2eee0b61",
   "metadata": {
    "scrolled": true
   },
   "outputs": [
    {
     "data": {
      "text/html": [
       "<div>\n",
       "<style scoped>\n",
       "    .dataframe tbody tr th:only-of-type {\n",
       "        vertical-align: middle;\n",
       "    }\n",
       "\n",
       "    .dataframe tbody tr th {\n",
       "        vertical-align: top;\n",
       "    }\n",
       "\n",
       "    .dataframe thead th {\n",
       "        text-align: right;\n",
       "    }\n",
       "</style>\n",
       "<table border=\"1\" class=\"dataframe\">\n",
       "  <thead>\n",
       "    <tr style=\"text-align: right;\">\n",
       "      <th></th>\n",
       "      <th>id_doc</th>\n",
       "      <th>tema</th>\n",
       "      <th>titulo_doc</th>\n",
       "      <th>url_doc</th>\n",
       "      <th>duracion</th>\n",
       "    </tr>\n",
       "  </thead>\n",
       "  <tbody>\n",
       "    <tr>\n",
       "      <th>0</th>\n",
       "      <td>DOC0001</td>\n",
       "      <td>Internet de las cosas</td>\n",
       "      <td>01 - Curso Internet de las Cosas - Introducción</td>\n",
       "      <td>https://www.youtube.com/watch?v=5-MQj1kD9-I</td>\n",
       "      <td>8:44</td>\n",
       "    </tr>\n",
       "    <tr>\n",
       "      <th>1</th>\n",
       "      <td>DOC0002</td>\n",
       "      <td>Internet de las cosas</td>\n",
       "      <td>02 - Curso Internet de las Cosas - Laboratorio...</td>\n",
       "      <td>https://www.youtube.com/watch?v=GExTkcH5pTg</td>\n",
       "      <td>11:23</td>\n",
       "    </tr>\n",
       "    <tr>\n",
       "      <th>2</th>\n",
       "      <td>DOC0003</td>\n",
       "      <td>Introduccion IA</td>\n",
       "      <td>¿QUÉ ES LA INTELIGENCIA ARTIFICIAL? | 01 Intel...</td>\n",
       "      <td>https://www.youtube.com/watch?v=KmhLHDONTXY</td>\n",
       "      <td>12:10</td>\n",
       "    </tr>\n",
       "    <tr>\n",
       "      <th>3</th>\n",
       "      <td>DOC0004</td>\n",
       "      <td>Introduccion IA</td>\n",
       "      <td>¿QUÉ ES LA MACHINE LEARNING? | 02 Inteligencia...</td>\n",
       "      <td>https://www.youtube.com/watch?v=bFQmEx9T29U</td>\n",
       "      <td>14:19</td>\n",
       "    </tr>\n",
       "    <tr>\n",
       "      <th>4</th>\n",
       "      <td>DOC0005</td>\n",
       "      <td>Introduccion IA</td>\n",
       "      <td>¿QUÉ ES DEEP LEARNING? | 03 Inteligencia Artif...</td>\n",
       "      <td>https://www.youtube.com/watch?v=xuSnmWZagN8</td>\n",
       "      <td>11:40</td>\n",
       "    </tr>\n",
       "  </tbody>\n",
       "</table>\n",
       "</div>"
      ],
      "text/plain": [
       "    id_doc                   tema  \\\n",
       "0  DOC0001  Internet de las cosas   \n",
       "1  DOC0002  Internet de las cosas   \n",
       "2  DOC0003        Introduccion IA   \n",
       "3  DOC0004        Introduccion IA   \n",
       "4  DOC0005        Introduccion IA   \n",
       "\n",
       "                                          titulo_doc  \\\n",
       "0    01 - Curso Internet de las Cosas - Introducción   \n",
       "1  02 - Curso Internet de las Cosas - Laboratorio...   \n",
       "2  ¿QUÉ ES LA INTELIGENCIA ARTIFICIAL? | 01 Intel...   \n",
       "3  ¿QUÉ ES LA MACHINE LEARNING? | 02 Inteligencia...   \n",
       "4  ¿QUÉ ES DEEP LEARNING? | 03 Inteligencia Artif...   \n",
       "\n",
       "                                       url_doc duracion  \n",
       "0  https://www.youtube.com/watch?v=5-MQj1kD9-I     8:44  \n",
       "1  https://www.youtube.com/watch?v=GExTkcH5pTg    11:23  \n",
       "2  https://www.youtube.com/watch?v=KmhLHDONTXY    12:10  \n",
       "3  https://www.youtube.com/watch?v=bFQmEx9T29U    14:19  \n",
       "4  https://www.youtube.com/watch?v=xuSnmWZagN8    11:40  "
      ]
     },
     "execution_count": 4,
     "metadata": {},
     "output_type": "execute_result"
    }
   ],
   "source": [
    "df_listadoc.head()"
   ]
  },
  {
   "cell_type": "code",
   "execution_count": 5,
   "id": "635562bf",
   "metadata": {},
   "outputs": [
    {
     "data": {
      "text/plain": [
       "(150, 5)"
      ]
     },
     "execution_count": 5,
     "metadata": {},
     "output_type": "execute_result"
    }
   ],
   "source": [
    "df_listadoc.shape"
   ]
  },
  {
   "cell_type": "markdown",
   "id": "cd88ae82",
   "metadata": {},
   "source": [
    "Convirtiendo documentos de Youtube en audios en formato FLAC utilizando sus URLs"
   ]
  },
  {
   "cell_type": "code",
   "execution_count": null,
   "id": "81b248e5",
   "metadata": {},
   "outputs": [
    {
     "name": "stdout",
     "output_type": "stream",
     "text": [
      "2023-09-24 14:04:00 | INFO | [youtube2text.py:40] Youtube2Text content file saved at path C:\\Users\\Franco\\youtube2text\n",
      "2023-09-24 14:04:03 | INFO | [youtube2text.py:155] Audio at sample rate 16000\n",
      "2023-09-24 14:04:09 | INFO | [youtube2text.py:167] Download completed at C:\\Users\\Franco\\- DATA -\\- Notebooks Jupyter\\- TFM\\audio_documentos\\DOC0001_audio.flac\n",
      "DOC0001 transformado\n",
      "2023-09-24 14:04:09 | INFO | [youtube2text.py:40] Youtube2Text content file saved at path C:\\Users\\Franco\\youtube2text\n",
      "2023-09-24 14:04:11 | INFO | [youtube2text.py:155] Audio at sample rate 16000\n",
      "2023-09-24 14:04:18 | INFO | [youtube2text.py:167] Download completed at C:\\Users\\Franco\\- DATA -\\- Notebooks Jupyter\\- TFM\\audio_documentos\\DOC0002_audio.flac\n",
      "DOC0002 transformado\n",
      "2023-09-24 14:04:18 | INFO | [youtube2text.py:40] Youtube2Text content file saved at path C:\\Users\\Franco\\youtube2text\n",
      "2023-09-24 14:04:20 | INFO | [youtube2text.py:155] Audio at sample rate 16000\n",
      "2023-09-24 14:04:26 | INFO | [youtube2text.py:167] Download completed at C:\\Users\\Franco\\- DATA -\\- Notebooks Jupyter\\- TFM\\audio_documentos\\DOC0003_audio.flac\n",
      "DOC0003 transformado\n",
      "2023-09-24 14:04:26 | INFO | [youtube2text.py:40] Youtube2Text content file saved at path C:\\Users\\Franco\\youtube2text\n",
      "2023-09-24 14:04:28 | INFO | [youtube2text.py:155] Audio at sample rate 16000\n",
      "2023-09-24 14:04:35 | INFO | [youtube2text.py:167] Download completed at C:\\Users\\Franco\\- DATA -\\- Notebooks Jupyter\\- TFM\\audio_documentos\\DOC0004_audio.flac\n",
      "DOC0004 transformado\n",
      "2023-09-24 14:04:35 | INFO | [youtube2text.py:40] Youtube2Text content file saved at path C:\\Users\\Franco\\youtube2text\n",
      "2023-09-24 14:04:37 | INFO | [youtube2text.py:155] Audio at sample rate 16000\n",
      "2023-09-24 14:04:42 | INFO | [youtube2text.py:167] Download completed at C:\\Users\\Franco\\- DATA -\\- Notebooks Jupyter\\- TFM\\audio_documentos\\DOC0005_audio.flac\n",
      "DOC0005 transformado\n",
      "2023-09-24 14:04:42 | INFO | [youtube2text.py:40] Youtube2Text content file saved at path C:\\Users\\Franco\\youtube2text\n",
      "2023-09-24 14:04:45 | INFO | [youtube2text.py:155] Audio at sample rate 16000\n",
      "2023-09-24 14:04:50 | INFO | [youtube2text.py:167] Download completed at C:\\Users\\Franco\\- DATA -\\- Notebooks Jupyter\\- TFM\\audio_documentos\\DOC0006_audio.flac\n",
      "DOC0006 transformado\n",
      "2023-09-24 14:04:50 | INFO | [youtube2text.py:40] Youtube2Text content file saved at path C:\\Users\\Franco\\youtube2text\n",
      "2023-09-24 14:04:52 | INFO | [youtube2text.py:155] Audio at sample rate 16000\n",
      "2023-09-24 14:04:59 | INFO | [youtube2text.py:167] Download completed at C:\\Users\\Franco\\- DATA -\\- Notebooks Jupyter\\- TFM\\audio_documentos\\DOC0007_audio.flac\n",
      "DOC0007 transformado\n",
      "2023-09-24 14:04:59 | INFO | [youtube2text.py:40] Youtube2Text content file saved at path C:\\Users\\Franco\\youtube2text\n",
      "2023-09-24 14:05:02 | INFO | [youtube2text.py:155] Audio at sample rate 16000\n",
      "2023-09-24 14:05:08 | INFO | [youtube2text.py:167] Download completed at C:\\Users\\Franco\\- DATA -\\- Notebooks Jupyter\\- TFM\\audio_documentos\\DOC0008_audio.flac\n",
      "DOC0008 transformado\n",
      "2023-09-24 14:05:08 | INFO | [youtube2text.py:40] Youtube2Text content file saved at path C:\\Users\\Franco\\youtube2text\n",
      "2023-09-24 14:05:10 | INFO | [youtube2text.py:155] Audio at sample rate 16000\n",
      "2023-09-24 14:05:15 | INFO | [youtube2text.py:167] Download completed at C:\\Users\\Franco\\- DATA -\\- Notebooks Jupyter\\- TFM\\audio_documentos\\DOC0009_audio.flac\n",
      "DOC0009 transformado\n",
      "2023-09-24 14:05:15 | INFO | [youtube2text.py:40] Youtube2Text content file saved at path C:\\Users\\Franco\\youtube2text\n",
      "2023-09-24 14:05:18 | INFO | [youtube2text.py:155] Audio at sample rate 16000\n",
      "2023-09-24 14:05:23 | INFO | [youtube2text.py:167] Download completed at C:\\Users\\Franco\\- DATA -\\- Notebooks Jupyter\\- TFM\\audio_documentos\\DOC0010_audio.flac\n",
      "DOC0010 transformado\n",
      "2023-09-24 14:05:23 | INFO | [youtube2text.py:40] Youtube2Text content file saved at path C:\\Users\\Franco\\youtube2text\n",
      "2023-09-24 14:05:26 | INFO | [youtube2text.py:155] Audio at sample rate 16000\n",
      "2023-09-24 14:05:33 | INFO | [youtube2text.py:167] Download completed at C:\\Users\\Franco\\- DATA -\\- Notebooks Jupyter\\- TFM\\audio_documentos\\DOC0011_audio.flac\n",
      "DOC0011 transformado\n",
      "2023-09-24 14:05:33 | INFO | [youtube2text.py:40] Youtube2Text content file saved at path C:\\Users\\Franco\\youtube2text\n",
      "2023-09-24 14:05:35 | INFO | [youtube2text.py:155] Audio at sample rate 16000\n",
      "2023-09-24 14:05:41 | INFO | [youtube2text.py:167] Download completed at C:\\Users\\Franco\\- DATA -\\- Notebooks Jupyter\\- TFM\\audio_documentos\\DOC0012_audio.flac\n",
      "DOC0012 transformado\n",
      "2023-09-24 14:05:41 | INFO | [youtube2text.py:40] Youtube2Text content file saved at path C:\\Users\\Franco\\youtube2text\n",
      "2023-09-24 14:05:44 | INFO | [youtube2text.py:155] Audio at sample rate 16000\n",
      "2023-09-24 14:05:46 | INFO | [youtube2text.py:167] Download completed at C:\\Users\\Franco\\- DATA -\\- Notebooks Jupyter\\- TFM\\audio_documentos\\DOC0013_audio.flac\n",
      "DOC0013 transformado\n",
      "2023-09-24 14:05:46 | INFO | [youtube2text.py:40] Youtube2Text content file saved at path C:\\Users\\Franco\\youtube2text\n",
      "2023-09-24 14:05:49 | INFO | [youtube2text.py:155] Audio at sample rate 16000\n",
      "2023-09-24 14:05:52 | INFO | [youtube2text.py:167] Download completed at C:\\Users\\Franco\\- DATA -\\- Notebooks Jupyter\\- TFM\\audio_documentos\\DOC0014_audio.flac\n",
      "DOC0014 transformado\n",
      "2023-09-24 14:05:52 | INFO | [youtube2text.py:40] Youtube2Text content file saved at path C:\\Users\\Franco\\youtube2text\n",
      "2023-09-24 14:05:54 | INFO | [youtube2text.py:155] Audio at sample rate 16000\n",
      "2023-09-24 14:05:57 | INFO | [youtube2text.py:167] Download completed at C:\\Users\\Franco\\- DATA -\\- Notebooks Jupyter\\- TFM\\audio_documentos\\DOC0015_audio.flac\n",
      "DOC0015 transformado\n",
      "2023-09-24 14:05:57 | INFO | [youtube2text.py:40] Youtube2Text content file saved at path C:\\Users\\Franco\\youtube2text\n",
      "2023-09-24 14:05:59 | INFO | [youtube2text.py:155] Audio at sample rate 16000\n",
      "2023-09-24 14:06:02 | INFO | [youtube2text.py:167] Download completed at C:\\Users\\Franco\\- DATA -\\- Notebooks Jupyter\\- TFM\\audio_documentos\\DOC0016_audio.flac\n",
      "DOC0016 transformado\n",
      "2023-09-24 14:06:02 | INFO | [youtube2text.py:40] Youtube2Text content file saved at path C:\\Users\\Franco\\youtube2text\n",
      "2023-09-24 14:06:04 | INFO | [youtube2text.py:155] Audio at sample rate 16000\n",
      "2023-09-24 14:06:08 | INFO | [youtube2text.py:167] Download completed at C:\\Users\\Franco\\- DATA -\\- Notebooks Jupyter\\- TFM\\audio_documentos\\DOC0017_audio.flac\n",
      "DOC0017 transformado\n",
      "2023-09-24 14:06:08 | INFO | [youtube2text.py:40] Youtube2Text content file saved at path C:\\Users\\Franco\\youtube2text\n",
      "2023-09-24 14:06:11 | INFO | [youtube2text.py:155] Audio at sample rate 16000\n",
      "2023-09-24 14:06:17 | INFO | [youtube2text.py:167] Download completed at C:\\Users\\Franco\\- DATA -\\- Notebooks Jupyter\\- TFM\\audio_documentos\\DOC0018_audio.flac\n",
      "DOC0018 transformado\n",
      "2023-09-24 14:06:17 | INFO | [youtube2text.py:40] Youtube2Text content file saved at path C:\\Users\\Franco\\youtube2text\n",
      "2023-09-24 14:06:19 | INFO | [youtube2text.py:155] Audio at sample rate 16000\n",
      "2023-09-24 14:06:24 | INFO | [youtube2text.py:167] Download completed at C:\\Users\\Franco\\- DATA -\\- Notebooks Jupyter\\- TFM\\audio_documentos\\DOC0019_audio.flac\n",
      "DOC0019 transformado\n",
      "2023-09-24 14:06:24 | INFO | [youtube2text.py:40] Youtube2Text content file saved at path C:\\Users\\Franco\\youtube2text\n",
      "2023-09-24 14:06:26 | INFO | [youtube2text.py:155] Audio at sample rate 16000\n"
     ]
    }
   ],
   "source": [
    "%%time\n",
    "for id_doc,url_doc in zip(list(df_listadoc.id_doc),list(df_listadoc.url_doc)):\n",
    "    try:\n",
    "        audio=Youtube2Text()\n",
    "        audio.url2audio(url_doc, \n",
    "                    audiofile = r\"C:\\Users\\Franco\\- DATA -\\- Notebooks Jupyter\\- TFM\\audio_documentos\\\\\"+id_doc+\"_audio.flac\")\n",
    "    except Exception as e:\n",
    "        print(e)\n",
    "    print(id_doc + ' transformado')"
   ]
  },
  {
   "cell_type": "code",
   "execution_count": null,
   "id": "d1f628d4",
   "metadata": {},
   "outputs": [],
   "source": []
  },
  {
   "cell_type": "code",
   "execution_count": null,
   "id": "6b80331d",
   "metadata": {},
   "outputs": [],
   "source": []
  },
  {
   "cell_type": "code",
   "execution_count": null,
   "id": "ecdec90a",
   "metadata": {},
   "outputs": [],
   "source": []
  },
  {
   "cell_type": "code",
   "execution_count": null,
   "id": "1d7743d0",
   "metadata": {},
   "outputs": [],
   "source": []
  }
 ],
 "metadata": {
  "kernelspec": {
   "display_name": "Python 3 (ipykernel)",
   "language": "python",
   "name": "python3"
  },
  "language_info": {
   "codemirror_mode": {
    "name": "ipython",
    "version": 3
   },
   "file_extension": ".py",
   "mimetype": "text/x-python",
   "name": "python",
   "nbconvert_exporter": "python",
   "pygments_lexer": "ipython3",
   "version": "3.9.12"
  }
 },
 "nbformat": 4,
 "nbformat_minor": 5
}
