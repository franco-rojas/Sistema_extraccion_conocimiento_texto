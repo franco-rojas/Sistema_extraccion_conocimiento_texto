{
 "cells": [
  {
   "cell_type": "markdown",
   "id": "7003e474",
   "metadata": {},
   "source": [
    "### Master oficial en Big Data & Data Science - Universidad Internacional de Valencia (VIU)"
   ]
  },
  {
   "cell_type": "markdown",
   "id": "cb67973d",
   "metadata": {},
   "source": [
    "<font color=\"darkblue\">\n",
    "\n",
    "-   **Alumno:** Franco Rojas Yucra\n",
    "-   **TFM:** Sistema para la busqueda de conocimientos en textos de documentos multimedia\n",
    "-   **Email:** franco.rojasyucra@alumnos.viu.es\n",
    "-   **Fecha:** Octubre de 2023\n",
    "<font color=\"black\">"
   ]
  },
  {
   "cell_type": "markdown",
   "id": "bc260801",
   "metadata": {},
   "source": [
    "## 03 Exploración y preparación de corpus"
   ]
  },
  {
   "cell_type": "markdown",
   "id": "3db5cd08",
   "metadata": {},
   "source": [
    "Librerías generales"
   ]
  },
  {
   "cell_type": "code",
   "execution_count": 1,
   "id": "a2750d2c",
   "metadata": {},
   "outputs": [
    {
     "name": "stderr",
     "output_type": "stream",
     "text": [
      "C:\\Users\\Franco\\anaconda3\\lib\\site-packages\\scipy\\__init__.py:146: UserWarning: A NumPy version >=1.16.5 and <1.23.0 is required for this version of SciPy (detected version 1.26.0\n",
      "  warnings.warn(f\"A NumPy version >={np_minversion} and <{np_maxversion}\"\n"
     ]
    }
   ],
   "source": [
    "import pandas as pd\n",
    "import string\n",
    "import re\n",
    "import nltk ## Funciones de Text mining\n",
    "from langdetect import detect #detectar idioma\n",
    "import requests\n",
    "import hashlib"
   ]
  },
  {
   "cell_type": "code",
   "execution_count": 2,
   "id": "61d4c3d0",
   "metadata": {},
   "outputs": [],
   "source": [
    "#nltk.download() ## Solo se ejecuta la primera vez que se utiliza nltk"
   ]
  },
  {
   "cell_type": "code",
   "execution_count": 3,
   "id": "54519575",
   "metadata": {},
   "outputs": [],
   "source": [
    "pd.set_option('display.max_columns',None) #motrar todas las columnas"
   ]
  },
  {
   "cell_type": "markdown",
   "id": "d15606eb",
   "metadata": {},
   "source": [
    "Lista de documentos multimedia de Youtube"
   ]
  },
  {
   "cell_type": "code",
   "execution_count": 4,
   "id": "cb43b88f",
   "metadata": {},
   "outputs": [],
   "source": [
    "df_listadoc=pd.read_excel('lista_documentos.xlsx')"
   ]
  },
  {
   "cell_type": "code",
   "execution_count": 5,
   "id": "f06ff65d",
   "metadata": {
    "scrolled": false
   },
   "outputs": [
    {
     "data": {
      "text/html": [
       "<div>\n",
       "<style scoped>\n",
       "    .dataframe tbody tr th:only-of-type {\n",
       "        vertical-align: middle;\n",
       "    }\n",
       "\n",
       "    .dataframe tbody tr th {\n",
       "        vertical-align: top;\n",
       "    }\n",
       "\n",
       "    .dataframe thead th {\n",
       "        text-align: right;\n",
       "    }\n",
       "</style>\n",
       "<table border=\"1\" class=\"dataframe\">\n",
       "  <thead>\n",
       "    <tr style=\"text-align: right;\">\n",
       "      <th></th>\n",
       "      <th>id_doc</th>\n",
       "      <th>tema</th>\n",
       "      <th>titulo_doc</th>\n",
       "      <th>url_doc</th>\n",
       "      <th>duracion</th>\n",
       "    </tr>\n",
       "  </thead>\n",
       "  <tbody>\n",
       "    <tr>\n",
       "      <th>0</th>\n",
       "      <td>DOC0001</td>\n",
       "      <td>Internet de las cosas</td>\n",
       "      <td>01 - Curso Internet de las Cosas - Introducción</td>\n",
       "      <td>https://www.youtube.com/watch?v=5-MQj1kD9-I</td>\n",
       "      <td>8:44</td>\n",
       "    </tr>\n",
       "    <tr>\n",
       "      <th>1</th>\n",
       "      <td>DOC0002</td>\n",
       "      <td>Internet de las cosas</td>\n",
       "      <td>02 - Curso Internet de las Cosas - Laboratorio...</td>\n",
       "      <td>https://www.youtube.com/watch?v=GExTkcH5pTg</td>\n",
       "      <td>11:23</td>\n",
       "    </tr>\n",
       "    <tr>\n",
       "      <th>2</th>\n",
       "      <td>DOC0003</td>\n",
       "      <td>Introduccion IA</td>\n",
       "      <td>¿QUÉ ES LA INTELIGENCIA ARTIFICIAL? | 01 Intel...</td>\n",
       "      <td>https://www.youtube.com/watch?v=KmhLHDONTXY</td>\n",
       "      <td>12:10</td>\n",
       "    </tr>\n",
       "    <tr>\n",
       "      <th>3</th>\n",
       "      <td>DOC0004</td>\n",
       "      <td>Introduccion IA</td>\n",
       "      <td>¿QUÉ ES LA MACHINE LEARNING? | 02 Inteligencia...</td>\n",
       "      <td>https://www.youtube.com/watch?v=bFQmEx9T29U</td>\n",
       "      <td>14:19</td>\n",
       "    </tr>\n",
       "    <tr>\n",
       "      <th>4</th>\n",
       "      <td>DOC0005</td>\n",
       "      <td>Introduccion IA</td>\n",
       "      <td>¿QUÉ ES DEEP LEARNING? | 03 Inteligencia Artif...</td>\n",
       "      <td>https://www.youtube.com/watch?v=xuSnmWZagN8</td>\n",
       "      <td>11:40</td>\n",
       "    </tr>\n",
       "  </tbody>\n",
       "</table>\n",
       "</div>"
      ],
      "text/plain": [
       "    id_doc                   tema  \\\n",
       "0  DOC0001  Internet de las cosas   \n",
       "1  DOC0002  Internet de las cosas   \n",
       "2  DOC0003        Introduccion IA   \n",
       "3  DOC0004        Introduccion IA   \n",
       "4  DOC0005        Introduccion IA   \n",
       "\n",
       "                                          titulo_doc  \\\n",
       "0    01 - Curso Internet de las Cosas - Introducción   \n",
       "1  02 - Curso Internet de las Cosas - Laboratorio...   \n",
       "2  ¿QUÉ ES LA INTELIGENCIA ARTIFICIAL? | 01 Intel...   \n",
       "3  ¿QUÉ ES LA MACHINE LEARNING? | 02 Inteligencia...   \n",
       "4  ¿QUÉ ES DEEP LEARNING? | 03 Inteligencia Artif...   \n",
       "\n",
       "                                       url_doc duracion  \n",
       "0  https://www.youtube.com/watch?v=5-MQj1kD9-I     8:44  \n",
       "1  https://www.youtube.com/watch?v=GExTkcH5pTg    11:23  \n",
       "2  https://www.youtube.com/watch?v=KmhLHDONTXY    12:10  \n",
       "3  https://www.youtube.com/watch?v=bFQmEx9T29U    14:19  \n",
       "4  https://www.youtube.com/watch?v=xuSnmWZagN8    11:40  "
      ]
     },
     "execution_count": 5,
     "metadata": {},
     "output_type": "execute_result"
    }
   ],
   "source": [
    "df_listadoc.head()"
   ]
  },
  {
   "cell_type": "markdown",
   "id": "c46dd34d",
   "metadata": {},
   "source": [
    "#### Reuniendo textos en una tabla"
   ]
  },
  {
   "cell_type": "code",
   "execution_count": 6,
   "id": "f712a946",
   "metadata": {},
   "outputs": [],
   "source": [
    "#Acumulando textos en una sola tabla por id_doc\n",
    "df_transcrip=pd.DataFrame()\n",
    "for id_doc,tema in zip(list(df_listadoc.id_doc),list(df_listadoc.tema)):\n",
    "    f = open(\"transcripcion_whisper/\"+id_doc+\"_text.txt\",encoding='utf8')\n",
    "    df_trtmp=pd.DataFrame({'id_doc':[id_doc],'tema':tema,'transcription':f.readlines()[0].strip()})\n",
    "    f.close()\n",
    "    df_transcrip=pd.concat([df_transcrip,df_trtmp]).reset_index(drop=True)"
   ]
  },
  {
   "cell_type": "code",
   "execution_count": 7,
   "id": "bfca6532",
   "metadata": {
    "scrolled": true
   },
   "outputs": [
    {
     "data": {
      "text/html": [
       "<div>\n",
       "<style scoped>\n",
       "    .dataframe tbody tr th:only-of-type {\n",
       "        vertical-align: middle;\n",
       "    }\n",
       "\n",
       "    .dataframe tbody tr th {\n",
       "        vertical-align: top;\n",
       "    }\n",
       "\n",
       "    .dataframe thead th {\n",
       "        text-align: right;\n",
       "    }\n",
       "</style>\n",
       "<table border=\"1\" class=\"dataframe\">\n",
       "  <thead>\n",
       "    <tr style=\"text-align: right;\">\n",
       "      <th></th>\n",
       "      <th>id_doc</th>\n",
       "      <th>tema</th>\n",
       "      <th>transcription</th>\n",
       "    </tr>\n",
       "  </thead>\n",
       "  <tbody>\n",
       "    <tr>\n",
       "      <th>0</th>\n",
       "      <td>DOC0001</td>\n",
       "      <td>Internet de las cosas</td>\n",
       "      <td>Bienvenidos a nuestro canal de YouTube, Intern...</td>\n",
       "    </tr>\n",
       "    <tr>\n",
       "      <th>1</th>\n",
       "      <td>DOC0002</td>\n",
       "      <td>Internet de las cosas</td>\n",
       "      <td>Bienvenidos al curso Internet de las Cosas. Mi...</td>\n",
       "    </tr>\n",
       "    <tr>\n",
       "      <th>2</th>\n",
       "      <td>DOC0003</td>\n",
       "      <td>Introduccion IA</td>\n",
       "      <td>Hola a todos y bienvenidos a un nuevo video en...</td>\n",
       "    </tr>\n",
       "    <tr>\n",
       "      <th>3</th>\n",
       "      <td>DOC0004</td>\n",
       "      <td>Introduccion IA</td>\n",
       "      <td>Hola a todos y bienvenidos a un nuevo video en...</td>\n",
       "    </tr>\n",
       "    <tr>\n",
       "      <th>4</th>\n",
       "      <td>DOC0005</td>\n",
       "      <td>Introduccion IA</td>\n",
       "      <td>Hola a todos y bienvenidos a un nuevo video en...</td>\n",
       "    </tr>\n",
       "  </tbody>\n",
       "</table>\n",
       "</div>"
      ],
      "text/plain": [
       "    id_doc                   tema  \\\n",
       "0  DOC0001  Internet de las cosas   \n",
       "1  DOC0002  Internet de las cosas   \n",
       "2  DOC0003        Introduccion IA   \n",
       "3  DOC0004        Introduccion IA   \n",
       "4  DOC0005        Introduccion IA   \n",
       "\n",
       "                                       transcription  \n",
       "0  Bienvenidos a nuestro canal de YouTube, Intern...  \n",
       "1  Bienvenidos al curso Internet de las Cosas. Mi...  \n",
       "2  Hola a todos y bienvenidos a un nuevo video en...  \n",
       "3  Hola a todos y bienvenidos a un nuevo video en...  \n",
       "4  Hola a todos y bienvenidos a un nuevo video en...  "
      ]
     },
     "execution_count": 7,
     "metadata": {},
     "output_type": "execute_result"
    }
   ],
   "source": [
    "df_transcrip.head()"
   ]
  },
  {
   "cell_type": "code",
   "execution_count": 8,
   "id": "80d6d316",
   "metadata": {},
   "outputs": [],
   "source": [
    "df_transcrip.to_csv('transformed_corpus/conjunto_transcripciones_ini.csv',index=False,sep='|')"
   ]
  },
  {
   "cell_type": "markdown",
   "id": "562143f6",
   "metadata": {},
   "source": [
    "## Filtros de calidad"
   ]
  },
  {
   "cell_type": "markdown",
   "id": "7f1aafe3",
   "metadata": {},
   "source": [
    "### 1. Retiro de documentos con poca cantidad de palabras"
   ]
  },
  {
   "cell_type": "code",
   "execution_count": 9,
   "id": "b58395be",
   "metadata": {},
   "outputs": [],
   "source": [
    "# Calculando cantidad de tokens por documento\n",
    "df_transcrip['tokens']=df_transcrip['transcription'].apply(lambda x : len(x.split()))"
   ]
  },
  {
   "cell_type": "code",
   "execution_count": 10,
   "id": "dbf348ba",
   "metadata": {
    "scrolled": true
   },
   "outputs": [
    {
     "data": {
      "text/html": [
       "<div>\n",
       "<style scoped>\n",
       "    .dataframe tbody tr th:only-of-type {\n",
       "        vertical-align: middle;\n",
       "    }\n",
       "\n",
       "    .dataframe tbody tr th {\n",
       "        vertical-align: top;\n",
       "    }\n",
       "\n",
       "    .dataframe thead th {\n",
       "        text-align: right;\n",
       "    }\n",
       "</style>\n",
       "<table border=\"1\" class=\"dataframe\">\n",
       "  <thead>\n",
       "    <tr style=\"text-align: right;\">\n",
       "      <th></th>\n",
       "      <th>id_doc</th>\n",
       "      <th>tema</th>\n",
       "      <th>transcription</th>\n",
       "      <th>tokens</th>\n",
       "    </tr>\n",
       "  </thead>\n",
       "  <tbody>\n",
       "    <tr>\n",
       "      <th>0</th>\n",
       "      <td>DOC0001</td>\n",
       "      <td>Internet de las cosas</td>\n",
       "      <td>Bienvenidos a nuestro canal de YouTube, Intern...</td>\n",
       "      <td>1350</td>\n",
       "    </tr>\n",
       "    <tr>\n",
       "      <th>1</th>\n",
       "      <td>DOC0002</td>\n",
       "      <td>Internet de las cosas</td>\n",
       "      <td>Bienvenidos al curso Internet de las Cosas. Mi...</td>\n",
       "      <td>1605</td>\n",
       "    </tr>\n",
       "    <tr>\n",
       "      <th>2</th>\n",
       "      <td>DOC0003</td>\n",
       "      <td>Introduccion IA</td>\n",
       "      <td>Hola a todos y bienvenidos a un nuevo video en...</td>\n",
       "      <td>1671</td>\n",
       "    </tr>\n",
       "  </tbody>\n",
       "</table>\n",
       "</div>"
      ],
      "text/plain": [
       "    id_doc                   tema  \\\n",
       "0  DOC0001  Internet de las cosas   \n",
       "1  DOC0002  Internet de las cosas   \n",
       "2  DOC0003        Introduccion IA   \n",
       "\n",
       "                                       transcription  tokens  \n",
       "0  Bienvenidos a nuestro canal de YouTube, Intern...    1350  \n",
       "1  Bienvenidos al curso Internet de las Cosas. Mi...    1605  \n",
       "2  Hola a todos y bienvenidos a un nuevo video en...    1671  "
      ]
     },
     "execution_count": 10,
     "metadata": {},
     "output_type": "execute_result"
    }
   ],
   "source": [
    "df_transcrip.head(3)"
   ]
  },
  {
   "cell_type": "code",
   "execution_count": 11,
   "id": "e575547c",
   "metadata": {},
   "outputs": [
    {
     "data": {
      "text/plain": [
       "257067"
      ]
     },
     "execution_count": 11,
     "metadata": {},
     "output_type": "execute_result"
    }
   ],
   "source": [
    "#Cantidad inicial de palabras/tokens\n",
    "df_transcrip.tokens.sum()"
   ]
  },
  {
   "cell_type": "code",
   "execution_count": 12,
   "id": "56001190",
   "metadata": {},
   "outputs": [
    {
     "data": {
      "text/plain": [
       "count     150.000000\n",
       "mean     1713.780000\n",
       "std       921.216382\n",
       "min        20.000000\n",
       "25%       993.500000\n",
       "50%      1640.000000\n",
       "75%      2277.750000\n",
       "max      4057.000000\n",
       "Name: tokens, dtype: float64"
      ]
     },
     "execution_count": 12,
     "metadata": {},
     "output_type": "execute_result"
    }
   ],
   "source": [
    "df_transcrip.tokens.describe()"
   ]
  },
  {
   "cell_type": "code",
   "execution_count": 13,
   "id": "c939bdcc",
   "metadata": {
    "scrolled": true
   },
   "outputs": [
    {
     "data": {
      "text/html": [
       "<div>\n",
       "<style scoped>\n",
       "    .dataframe tbody tr th:only-of-type {\n",
       "        vertical-align: middle;\n",
       "    }\n",
       "\n",
       "    .dataframe tbody tr th {\n",
       "        vertical-align: top;\n",
       "    }\n",
       "\n",
       "    .dataframe thead th {\n",
       "        text-align: right;\n",
       "    }\n",
       "</style>\n",
       "<table border=\"1\" class=\"dataframe\">\n",
       "  <thead>\n",
       "    <tr style=\"text-align: right;\">\n",
       "      <th></th>\n",
       "      <th>id_doc</th>\n",
       "      <th>tema</th>\n",
       "      <th>transcription</th>\n",
       "      <th>tokens</th>\n",
       "    </tr>\n",
       "  </thead>\n",
       "  <tbody>\n",
       "    <tr>\n",
       "      <th>21</th>\n",
       "      <td>DOC0022</td>\n",
       "      <td>Datalakes</td>\n",
       "      <td>As you wrap up the process of designing the pr...</td>\n",
       "      <td>20</td>\n",
       "    </tr>\n",
       "  </tbody>\n",
       "</table>\n",
       "</div>"
      ],
      "text/plain": [
       "     id_doc       tema                                      transcription  \\\n",
       "21  DOC0022  Datalakes  As you wrap up the process of designing the pr...   \n",
       "\n",
       "    tokens  \n",
       "21      20  "
      ]
     },
     "execution_count": 13,
     "metadata": {},
     "output_type": "execute_result"
    }
   ],
   "source": [
    "df_transcrip[df_transcrip['tokens']<100]"
   ]
  },
  {
   "cell_type": "markdown",
   "id": "41b0b07d",
   "metadata": {},
   "source": [
    "*Se retira documento con 20 tokens, y se observa tambien que esta en ingles.*"
   ]
  },
  {
   "cell_type": "code",
   "execution_count": 14,
   "id": "e5557ef0",
   "metadata": {},
   "outputs": [],
   "source": [
    "df_transcrip=df_transcrip[df_transcrip['tokens']>=100].reset_index(drop=True)"
   ]
  },
  {
   "cell_type": "code",
   "execution_count": 15,
   "id": "842bd220",
   "metadata": {},
   "outputs": [
    {
     "data": {
      "text/plain": [
       "257047"
      ]
     },
     "execution_count": 15,
     "metadata": {},
     "output_type": "execute_result"
    }
   ],
   "source": [
    "#Cantidad de tokens despues de retiro\n",
    "df_transcrip.tokens.sum()"
   ]
  },
  {
   "cell_type": "markdown",
   "id": "748f8733",
   "metadata": {},
   "source": [
    "### 2. Verificación de idioma de documentos"
   ]
  },
  {
   "cell_type": "markdown",
   "id": "882cac42",
   "metadata": {},
   "source": [
    "Función para separar texto en frases"
   ]
  },
  {
   "cell_type": "code",
   "execution_count": 16,
   "id": "65a02971",
   "metadata": {},
   "outputs": [],
   "source": [
    "#Se considera frases de 5 palabras para evaluar idioma\n",
    "def dividir_en_frases(text):   \n",
    "    frases=[]; i = 0;\n",
    "    while i < len(text.split()):\n",
    "        if i >= len(text.split()): break\n",
    "        frases.append(\" \".join(text.split()[i:i+5]))\n",
    "        i+=5\n",
    "    return frases"
   ]
  },
  {
   "cell_type": "code",
   "execution_count": 17,
   "id": "33906f03",
   "metadata": {},
   "outputs": [
    {
     "data": {
      "text/plain": [
       "'!\"#$%&\\'()*+,-./:;<=>?@[\\\\]^_`{|}~?¿´“1234567890'"
      ]
     },
     "execution_count": 17,
     "metadata": {},
     "output_type": "execute_result"
    }
   ],
   "source": [
    "signos_numer=string.punctuation+'?¿´“'+'1234567890'\n",
    "signos_numer"
   ]
  },
  {
   "cell_type": "markdown",
   "id": "e974c96f",
   "metadata": {},
   "source": [
    "Función para calcular porcentaje de frases en idioma español del total de frases"
   ]
  },
  {
   "cell_type": "code",
   "execution_count": 18,
   "id": "588e1eed",
   "metadata": {},
   "outputs": [],
   "source": [
    "def pct_español_frases(text):\n",
    "    lst_id=[]\n",
    "    text2=re.sub('[%s]' % re.escape(signos_numer), '', text)\n",
    "    for x in dividir_en_frases(text2):\n",
    "        idio_det=detect(x)\n",
    "        lst_id.append(idio_det)\n",
    "    return len([x for x in lst_id if x=='es'])/len(lst_id)"
   ]
  },
  {
   "cell_type": "markdown",
   "id": "9e967f60",
   "metadata": {},
   "source": [
    "Aplicando función de calculo de porcentaje de idioma español"
   ]
  },
  {
   "cell_type": "code",
   "execution_count": 19,
   "id": "53e161cb",
   "metadata": {},
   "outputs": [],
   "source": [
    "#%%time\n",
    "#df_transcrip['pct_esp_transc']=df_transcrip['transcription'].apply(lambda x : pct_español_frases(x))"
   ]
  },
  {
   "cell_type": "code",
   "execution_count": 22,
   "id": "f0cafd5b",
   "metadata": {},
   "outputs": [
    {
     "data": {
      "text/html": [
       "<div>\n",
       "<style scoped>\n",
       "    .dataframe tbody tr th:only-of-type {\n",
       "        vertical-align: middle;\n",
       "    }\n",
       "\n",
       "    .dataframe tbody tr th {\n",
       "        vertical-align: top;\n",
       "    }\n",
       "\n",
       "    .dataframe thead th {\n",
       "        text-align: right;\n",
       "    }\n",
       "</style>\n",
       "<table border=\"1\" class=\"dataframe\">\n",
       "  <thead>\n",
       "    <tr style=\"text-align: right;\">\n",
       "      <th></th>\n",
       "      <th>id_doc</th>\n",
       "      <th>tema</th>\n",
       "      <th>transcription</th>\n",
       "      <th>tokens</th>\n",
       "      <th>pct_esp_transc</th>\n",
       "    </tr>\n",
       "  </thead>\n",
       "  <tbody>\n",
       "    <tr>\n",
       "      <th>0</th>\n",
       "      <td>DOC0001</td>\n",
       "      <td>Internet de las cosas</td>\n",
       "      <td>Bienvenidos a nuestro canal de YouTube, Intern...</td>\n",
       "      <td>1350</td>\n",
       "      <td>0.940741</td>\n",
       "    </tr>\n",
       "    <tr>\n",
       "      <th>1</th>\n",
       "      <td>DOC0002</td>\n",
       "      <td>Internet de las cosas</td>\n",
       "      <td>Bienvenidos al curso Internet de las Cosas. Mi...</td>\n",
       "      <td>1605</td>\n",
       "      <td>0.896552</td>\n",
       "    </tr>\n",
       "    <tr>\n",
       "      <th>2</th>\n",
       "      <td>DOC0003</td>\n",
       "      <td>Introduccion IA</td>\n",
       "      <td>Hola a todos y bienvenidos a un nuevo video en...</td>\n",
       "      <td>1671</td>\n",
       "      <td>0.918919</td>\n",
       "    </tr>\n",
       "    <tr>\n",
       "      <th>3</th>\n",
       "      <td>DOC0004</td>\n",
       "      <td>Introduccion IA</td>\n",
       "      <td>Hola a todos y bienvenidos a un nuevo video en...</td>\n",
       "      <td>2086</td>\n",
       "      <td>0.858173</td>\n",
       "    </tr>\n",
       "    <tr>\n",
       "      <th>4</th>\n",
       "      <td>DOC0005</td>\n",
       "      <td>Introduccion IA</td>\n",
       "      <td>Hola a todos y bienvenidos a un nuevo video en...</td>\n",
       "      <td>1693</td>\n",
       "      <td>0.866864</td>\n",
       "    </tr>\n",
       "  </tbody>\n",
       "</table>\n",
       "</div>"
      ],
      "text/plain": [
       "    id_doc                   tema  \\\n",
       "0  DOC0001  Internet de las cosas   \n",
       "1  DOC0002  Internet de las cosas   \n",
       "2  DOC0003        Introduccion IA   \n",
       "3  DOC0004        Introduccion IA   \n",
       "4  DOC0005        Introduccion IA   \n",
       "\n",
       "                                       transcription  tokens  pct_esp_transc  \n",
       "0  Bienvenidos a nuestro canal de YouTube, Intern...    1350        0.940741  \n",
       "1  Bienvenidos al curso Internet de las Cosas. Mi...    1605        0.896552  \n",
       "2  Hola a todos y bienvenidos a un nuevo video en...    1671        0.918919  \n",
       "3  Hola a todos y bienvenidos a un nuevo video en...    2086        0.858173  \n",
       "4  Hola a todos y bienvenidos a un nuevo video en...    1693        0.866864  "
      ]
     },
     "execution_count": 22,
     "metadata": {},
     "output_type": "execute_result"
    }
   ],
   "source": [
    "df_transcrip.head()"
   ]
  },
  {
   "cell_type": "code",
   "execution_count": null,
   "id": "7d348402",
   "metadata": {},
   "outputs": [],
   "source": [
    "#df_transcrip.to_csv('transformed_corpus/conjunto_transcripciones_idiom.csv',index=False,sep='|')"
   ]
  },
  {
   "cell_type": "code",
   "execution_count": 21,
   "id": "0f243dd5",
   "metadata": {},
   "outputs": [],
   "source": [
    "#df_transcrip=pd.read_csv('transformed_corpus/conjunto_transcripciones_idiom.csv',sep='|')"
   ]
  },
  {
   "cell_type": "code",
   "execution_count": 23,
   "id": "81efdfa8",
   "metadata": {},
   "outputs": [
    {
     "data": {
      "text/plain": [
       "count    149.000000\n",
       "mean       0.876526\n",
       "std        0.042524\n",
       "min        0.709677\n",
       "25%        0.853116\n",
       "50%        0.881720\n",
       "75%        0.908257\n",
       "max        0.963211\n",
       "Name: pct_esp_transc, dtype: float64"
      ]
     },
     "execution_count": 23,
     "metadata": {},
     "output_type": "execute_result"
    }
   ],
   "source": [
    "df_transcrip.pct_esp_transc.describe()"
   ]
  },
  {
   "cell_type": "markdown",
   "id": "0494ef42",
   "metadata": {},
   "source": [
    "Se evalua aquellos documentos con menos de 75% de frases de idioma español"
   ]
  },
  {
   "cell_type": "code",
   "execution_count": 24,
   "id": "c1234260",
   "metadata": {},
   "outputs": [
    {
     "data": {
      "text/html": [
       "<div>\n",
       "<style scoped>\n",
       "    .dataframe tbody tr th:only-of-type {\n",
       "        vertical-align: middle;\n",
       "    }\n",
       "\n",
       "    .dataframe tbody tr th {\n",
       "        vertical-align: top;\n",
       "    }\n",
       "\n",
       "    .dataframe thead th {\n",
       "        text-align: right;\n",
       "    }\n",
       "</style>\n",
       "<table border=\"1\" class=\"dataframe\">\n",
       "  <thead>\n",
       "    <tr style=\"text-align: right;\">\n",
       "      <th></th>\n",
       "      <th>id_doc</th>\n",
       "      <th>tema</th>\n",
       "      <th>transcription</th>\n",
       "      <th>tokens</th>\n",
       "      <th>pct_esp_transc</th>\n",
       "    </tr>\n",
       "  </thead>\n",
       "  <tbody>\n",
       "    <tr>\n",
       "      <th>19</th>\n",
       "      <td>DOC0020</td>\n",
       "      <td>Datalakes</td>\n",
       "      <td>¿Cuentas con una gran cantidad de datos, pero ...</td>\n",
       "      <td>154</td>\n",
       "      <td>0.709677</td>\n",
       "    </tr>\n",
       "    <tr>\n",
       "      <th>118</th>\n",
       "      <td>DOC0120</td>\n",
       "      <td>Data Storytelling</td>\n",
       "      <td>de la historia. Por qué ahora todos quieren me...</td>\n",
       "      <td>1380</td>\n",
       "      <td>0.717391</td>\n",
       "    </tr>\n",
       "  </tbody>\n",
       "</table>\n",
       "</div>"
      ],
      "text/plain": [
       "      id_doc               tema  \\\n",
       "19   DOC0020          Datalakes   \n",
       "118  DOC0120  Data Storytelling   \n",
       "\n",
       "                                         transcription  tokens  pct_esp_transc  \n",
       "19   ¿Cuentas con una gran cantidad de datos, pero ...     154        0.709677  \n",
       "118  de la historia. Por qué ahora todos quieren me...    1380        0.717391  "
      ]
     },
     "execution_count": 24,
     "metadata": {},
     "output_type": "execute_result"
    }
   ],
   "source": [
    "df_transcrip[df_transcrip['pct_esp_transc']<0.75]"
   ]
  },
  {
   "cell_type": "code",
   "execution_count": 25,
   "id": "b97d2d57",
   "metadata": {},
   "outputs": [
    {
     "data": {
      "text/plain": [
       "'¿Cuentas con una gran cantidad de datos, pero aún no sabes cómo transformarlos en valor? Sumérgete en el lago de datos con Plug & Play Data Lake. Desde Nuviral, comandamos la expedición. Plug & Play Data Lake permite etiquetar, buscar, compartir, transformar, analizar y administrar fácilmente sus conjuntos de datos en una empresa o con usuarios externos. ¿Por qué es necesario que todas las empresas cuenten con esta solución? Porque exporta y almacena datos de forma segura, a gran escala y bajo costo. Realiza transformaciones de datos de manera sencilla. Proporciona data de calidad desde un solo almacén. Garantiza la disponibilidad y el análisis en todo momento. Permite el acceso y análisis de datos desde una misma fuente de información para todos los usuarios. Entre tres paquetes diferentes, puedes elegir el que mejor se adapte a tu empresa. Bronze, Silver o Gold. El momento es ahora. Sumérgete hoy mismo en este lago de oportunidades.'"
      ]
     },
     "execution_count": 25,
     "metadata": {},
     "output_type": "execute_result"
    }
   ],
   "source": [
    "df_transcrip['transcription'][19]"
   ]
  },
  {
   "cell_type": "code",
   "execution_count": 26,
   "id": "b3eb9903",
   "metadata": {
    "scrolled": true
   },
   "outputs": [
    {
     "data": {
      "text/plain": [
       "'de la historia. Por qué ahora todos quieren meter historias. Yo soy Rodrigo Marquez y soy un especialista en visualización de datos decía la escritora Maya ángelo las personas van a olvidar lo que dijiste pero nunca van a olvidar cómo las sientes. Acá de pasar. Y ahora yo estoy en la noticia de la noticia de la noticia de la noticia de la noticia de la noticia de la noticia de la noticia de la noticia de la noticia de la noticia de la noticia de la noticia de la noticia de la noticia de la noticia de la noticia de la noticia de la noticia de la noticia de la noticia de la noticia de la noticia de la noticia de la noticia de la noticia de la noticia de la noticia de la noticia de la noticia de la noticia de la noticia de la noticia de la noticia de la noticia de la noticia de la noticia de la noticia de la noticia de la noticia de la noticia de la noticia de la de la noticia de la noticia de la noticia de la noticia de la noticia de la noticia de la noticia de la noticia de la noticia d'"
      ]
     },
     "execution_count": 26,
     "metadata": {},
     "output_type": "execute_result"
    }
   ],
   "source": [
    "df_transcrip['transcription'][118][:1000]"
   ]
  },
  {
   "cell_type": "markdown",
   "id": "a8d1c5d6",
   "metadata": {},
   "source": [
    "*El DOC0020 se retira por tener muchas palabras tecnicas en ingles y por tener pocos tokens. El DOC0120 se retira por tener palabras repetidas, errores en transcripción.*"
   ]
  },
  {
   "cell_type": "code",
   "execution_count": 27,
   "id": "997731a6",
   "metadata": {},
   "outputs": [],
   "source": [
    "df_transcrip=df_transcrip[df_transcrip['pct_esp_transc']>=0.75].reset_index(drop=True)"
   ]
  },
  {
   "cell_type": "code",
   "execution_count": 28,
   "id": "f9403fec",
   "metadata": {},
   "outputs": [
    {
     "data": {
      "text/plain": [
       "255513"
      ]
     },
     "execution_count": 28,
     "metadata": {},
     "output_type": "execute_result"
    }
   ],
   "source": [
    "#Cantidad de tokens despues de retiro\n",
    "df_transcrip.tokens.sum()"
   ]
  },
  {
   "cell_type": "markdown",
   "id": "bcccc967",
   "metadata": {},
   "source": [
    "### 3. Retiro de malas palabras (bad_words)"
   ]
  },
  {
   "cell_type": "markdown",
   "id": "3259a669",
   "metadata": {},
   "source": [
    "Para este filtro se descarga un corpus de bad_words disponibles en Github."
   ]
  },
  {
   "cell_type": "code",
   "execution_count": 29,
   "id": "decd02b6",
   "metadata": {},
   "outputs": [],
   "source": [
    "response = requests.get('https://github.com/EddieSharp/Insultos/blob/master/diccionario.txt')\n",
    "str_url_imp=response.text\n",
    "#Realizando busqueda de lista de badwords en el request\n",
    "lst_url_imp=str_url_imp[str_url_imp.find('\"A')+1:str_url_imp.find('\"],\"')-1].split('\",\"')"
   ]
  },
  {
   "cell_type": "markdown",
   "id": "dc0d566b",
   "metadata": {},
   "source": [
    "Función para estandarizar y limpieza general de textos"
   ]
  },
  {
   "cell_type": "code",
   "execution_count": 30,
   "id": "bab84531",
   "metadata": {},
   "outputs": [],
   "source": [
    "def cleaning_text(text):\n",
    "    x = text.lower()\n",
    "    x = re.sub(r'[0-9]', \"\", x)\n",
    "    x = re.sub('[%s]' % re.escape('!\"#$%&\\()*+,-./:;<=>?@[\\\\]^_`{|}~?¿´“”'), '', x)\n",
    "    x = x.translate(str.maketrans('àèìòùáéíóúüñÁÉÍÓÚÜÑ','aeiouaeiouunAEIOUUN'))\n",
    "    return x"
   ]
  },
  {
   "cell_type": "code",
   "execution_count": 32,
   "id": "365c9a73",
   "metadata": {},
   "outputs": [
    {
     "data": {
      "text/plain": [
       "878"
      ]
     },
     "execution_count": 32,
     "metadata": {},
     "output_type": "execute_result"
    }
   ],
   "source": [
    "bad_words=[cleaning_text(str(pal)) for pal in lst_url_imp]\n",
    "len(bad_words)"
   ]
  },
  {
   "cell_type": "code",
   "execution_count": 33,
   "id": "0c3b5274",
   "metadata": {
    "scrolled": true
   },
   "outputs": [
    {
     "data": {
      "text/plain": [
       "['abadol',\n",
       " 'abejarruca',\n",
       " 'abejarruco',\n",
       " 'aberracion',\n",
       " 'aberracion',\n",
       " 'aberrante',\n",
       " 'ablanda brevas',\n",
       " 'abollao',\n",
       " 'aborto',\n",
       " 'abrazafarolas',\n",
       " 'abrillantaglandes',\n",
       " 'abulto',\n",
       " 'adan',\n",
       " 'afilasables',\n",
       " 'aguafiestas']"
      ]
     },
     "execution_count": 33,
     "metadata": {},
     "output_type": "execute_result"
    }
   ],
   "source": [
    "#Primeras 15 bad_words\n",
    "bad_words[:15]"
   ]
  },
  {
   "cell_type": "markdown",
   "id": "b47426e6",
   "metadata": {},
   "source": [
    "Función para remover bad_words"
   ]
  },
  {
   "cell_type": "code",
   "execution_count": 34,
   "id": "978cf16a",
   "metadata": {},
   "outputs": [],
   "source": [
    "def remove_badwords(text):\n",
    "    text_sep_filt=[]\n",
    "    text_sep=re.findall(r\"\\w+|\\W+\", text)\n",
    "    text_sep_clean=[cleaning_text(str(pal)) for pal in text_sep]\n",
    "    for i in range(len(text_sep_clean)):\n",
    "        if text_sep_clean[i] not in bad_words: \n",
    "                text_sep_filt.append(text_sep[i])\n",
    "    text_sep_filt1=\"\".join(text_sep_filt)\n",
    "    text_sep_filt2=[x for x in text_sep_filt1.split() if x not in string.punctuation+'?¿´“']\n",
    "    return \" \".join(text_sep_filt2)"
   ]
  },
  {
   "cell_type": "markdown",
   "id": "68af77de",
   "metadata": {},
   "source": [
    "Aplicando función de retiro de bad_words a todo el corpus"
   ]
  },
  {
   "cell_type": "code",
   "execution_count": 35,
   "id": "57459847",
   "metadata": {},
   "outputs": [
    {
     "name": "stdout",
     "output_type": "stream",
     "text": [
      "CPU times: total: 9.58 s\n",
      "Wall time: 9.61 s\n"
     ]
    }
   ],
   "source": [
    "%%time\n",
    "df_transcrip['transcription_filt1']=df_transcrip['transcription'].apply(lambda x : remove_badwords(x))"
   ]
  },
  {
   "cell_type": "code",
   "execution_count": 36,
   "id": "f4b4e56a",
   "metadata": {},
   "outputs": [],
   "source": [
    "# Calculando cantidad de tokens por documento\n",
    "df_transcrip['tokens_filt1']=df_transcrip['transcription_filt1'].apply(lambda x : len(x.split()))"
   ]
  },
  {
   "cell_type": "code",
   "execution_count": 37,
   "id": "96cde8ce",
   "metadata": {},
   "outputs": [
    {
     "data": {
      "text/plain": [
       "tokens          255513\n",
       "tokens_filt1    255474\n",
       "dtype: int64"
      ]
     },
     "execution_count": 37,
     "metadata": {},
     "output_type": "execute_result"
    }
   ],
   "source": [
    "df_transcrip[['tokens','tokens_filt1']].sum()"
   ]
  },
  {
   "cell_type": "markdown",
   "id": "77b05165",
   "metadata": {},
   "source": [
    "*Se han retirado 39 tokens detectados como bad_words.*"
   ]
  },
  {
   "cell_type": "code",
   "execution_count": 38,
   "id": "c6c05a0a",
   "metadata": {},
   "outputs": [
    {
     "data": {
      "text/html": [
       "<div>\n",
       "<style scoped>\n",
       "    .dataframe tbody tr th:only-of-type {\n",
       "        vertical-align: middle;\n",
       "    }\n",
       "\n",
       "    .dataframe tbody tr th {\n",
       "        vertical-align: top;\n",
       "    }\n",
       "\n",
       "    .dataframe thead th {\n",
       "        text-align: right;\n",
       "    }\n",
       "</style>\n",
       "<table border=\"1\" class=\"dataframe\">\n",
       "  <thead>\n",
       "    <tr style=\"text-align: right;\">\n",
       "      <th></th>\n",
       "      <th>id_doc</th>\n",
       "      <th>tema</th>\n",
       "      <th>transcription</th>\n",
       "      <th>tokens</th>\n",
       "      <th>pct_esp_transc</th>\n",
       "      <th>transcription_filt1</th>\n",
       "      <th>tokens_filt1</th>\n",
       "    </tr>\n",
       "  </thead>\n",
       "  <tbody>\n",
       "    <tr>\n",
       "      <th>0</th>\n",
       "      <td>DOC0001</td>\n",
       "      <td>Internet de las cosas</td>\n",
       "      <td>Bienvenidos a nuestro canal de YouTube, Intern...</td>\n",
       "      <td>1350</td>\n",
       "      <td>0.940741</td>\n",
       "      <td>Bienvenidos a nuestro canal de YouTube, Intern...</td>\n",
       "      <td>1350</td>\n",
       "    </tr>\n",
       "    <tr>\n",
       "      <th>1</th>\n",
       "      <td>DOC0002</td>\n",
       "      <td>Internet de las cosas</td>\n",
       "      <td>Bienvenidos al curso Internet de las Cosas. Mi...</td>\n",
       "      <td>1605</td>\n",
       "      <td>0.896552</td>\n",
       "      <td>Bienvenidos al curso Internet de las Cosas. Mi...</td>\n",
       "      <td>1605</td>\n",
       "    </tr>\n",
       "    <tr>\n",
       "      <th>2</th>\n",
       "      <td>DOC0003</td>\n",
       "      <td>Introduccion IA</td>\n",
       "      <td>Hola a todos y bienvenidos a un nuevo video en...</td>\n",
       "      <td>1671</td>\n",
       "      <td>0.918919</td>\n",
       "      <td>Hola a todos y bienvenidos a un nuevo video en...</td>\n",
       "      <td>1671</td>\n",
       "    </tr>\n",
       "  </tbody>\n",
       "</table>\n",
       "</div>"
      ],
      "text/plain": [
       "    id_doc                   tema  \\\n",
       "0  DOC0001  Internet de las cosas   \n",
       "1  DOC0002  Internet de las cosas   \n",
       "2  DOC0003        Introduccion IA   \n",
       "\n",
       "                                       transcription  tokens  pct_esp_transc  \\\n",
       "0  Bienvenidos a nuestro canal de YouTube, Intern...    1350        0.940741   \n",
       "1  Bienvenidos al curso Internet de las Cosas. Mi...    1605        0.896552   \n",
       "2  Hola a todos y bienvenidos a un nuevo video en...    1671        0.918919   \n",
       "\n",
       "                                 transcription_filt1  tokens_filt1  \n",
       "0  Bienvenidos a nuestro canal de YouTube, Intern...          1350  \n",
       "1  Bienvenidos al curso Internet de las Cosas. Mi...          1605  \n",
       "2  Hola a todos y bienvenidos a un nuevo video en...          1671  "
      ]
     },
     "execution_count": 38,
     "metadata": {},
     "output_type": "execute_result"
    }
   ],
   "source": [
    "df_transcrip.head(3)"
   ]
  },
  {
   "cell_type": "code",
   "execution_count": null,
   "id": "84853c5f",
   "metadata": {},
   "outputs": [],
   "source": []
  },
  {
   "cell_type": "markdown",
   "id": "ed032674",
   "metadata": {},
   "source": [
    "## Deduplicados de textos"
   ]
  },
  {
   "cell_type": "markdown",
   "id": "35ee879d",
   "metadata": {},
   "source": [
    "Función para separar texto en frases"
   ]
  },
  {
   "cell_type": "code",
   "execution_count": 39,
   "id": "11849fd0",
   "metadata": {},
   "outputs": [],
   "source": [
    "#Se considera frases de 10 palabras para evaluar deduplicacion\n",
    "def dividir_en_frases(text):   \n",
    "    frases=[]; i = 0;\n",
    "    while i < len(text.split()):\n",
    "        if i >= len(text.split()): break\n",
    "        frases.append(\" \".join(text.split()[i:i+10]))\n",
    "        i+=10\n",
    "    return frases"
   ]
  },
  {
   "cell_type": "markdown",
   "id": "134733e0",
   "metadata": {},
   "source": [
    "Función para retirar frases duplicadas"
   ]
  },
  {
   "cell_type": "code",
   "execution_count": 40,
   "id": "3fc1a375",
   "metadata": {},
   "outputs": [],
   "source": [
    "def deduplicate_text_by_hash(text):\n",
    "    frases=dividir_en_frases(text)\n",
    "    hashes = set()\n",
    "    unique_texts = []\n",
    "    \n",
    "    for text in frases:\n",
    "        hash = hashlib.sha256(text.encode()).hexdigest()\n",
    "        if hash not in hashes:\n",
    "            hashes.add(hash)\n",
    "            unique_texts.append(text)\n",
    "    \n",
    "    return \" \".join(unique_texts)"
   ]
  },
  {
   "cell_type": "markdown",
   "id": "a5c18a9c",
   "metadata": {},
   "source": [
    "Aplicando función de duplicados a todo el corpus"
   ]
  },
  {
   "cell_type": "code",
   "execution_count": 41,
   "id": "952210c0",
   "metadata": {},
   "outputs": [
    {
     "name": "stdout",
     "output_type": "stream",
     "text": [
      "CPU times: total: 12.7 s\n",
      "Wall time: 12.8 s\n"
     ]
    }
   ],
   "source": [
    "%%time\n",
    "df_transcrip['transcription_filt2']=df_transcrip['transcription_filt1'].apply(lambda x : deduplicate_text_by_hash(x))"
   ]
  },
  {
   "cell_type": "code",
   "execution_count": 42,
   "id": "1ebdd5f3",
   "metadata": {},
   "outputs": [],
   "source": [
    "# Calculando cantidad de tokens por documento\n",
    "df_transcrip['tokens_filt2']=df_transcrip['transcription_filt2'].apply(lambda x : len(x.split()))"
   ]
  },
  {
   "cell_type": "code",
   "execution_count": 43,
   "id": "ad5df160",
   "metadata": {},
   "outputs": [
    {
     "data": {
      "text/plain": [
       "tokens          255513\n",
       "tokens_filt1    255474\n",
       "tokens_filt2    255414\n",
       "dtype: int64"
      ]
     },
     "execution_count": 43,
     "metadata": {},
     "output_type": "execute_result"
    }
   ],
   "source": [
    "df_transcrip[['tokens','tokens_filt1','tokens_filt2']].sum()"
   ]
  },
  {
   "cell_type": "code",
   "execution_count": 44,
   "id": "b9074313",
   "metadata": {},
   "outputs": [
    {
     "data": {
      "text/html": [
       "<div>\n",
       "<style scoped>\n",
       "    .dataframe tbody tr th:only-of-type {\n",
       "        vertical-align: middle;\n",
       "    }\n",
       "\n",
       "    .dataframe tbody tr th {\n",
       "        vertical-align: top;\n",
       "    }\n",
       "\n",
       "    .dataframe thead th {\n",
       "        text-align: right;\n",
       "    }\n",
       "</style>\n",
       "<table border=\"1\" class=\"dataframe\">\n",
       "  <thead>\n",
       "    <tr style=\"text-align: right;\">\n",
       "      <th></th>\n",
       "      <th>id_doc</th>\n",
       "      <th>tema</th>\n",
       "      <th>transcription</th>\n",
       "      <th>tokens</th>\n",
       "      <th>pct_esp_transc</th>\n",
       "      <th>transcription_filt1</th>\n",
       "      <th>tokens_filt1</th>\n",
       "      <th>transcription_filt2</th>\n",
       "      <th>tokens_filt2</th>\n",
       "    </tr>\n",
       "  </thead>\n",
       "  <tbody>\n",
       "    <tr>\n",
       "      <th>7</th>\n",
       "      <td>DOC0008</td>\n",
       "      <td>Introduccion IA</td>\n",
       "      <td>Hola a todos y bienvenidos a un nuevo video en...</td>\n",
       "      <td>2083</td>\n",
       "      <td>0.927885</td>\n",
       "      <td>Hola a todos y bienvenidos a un nuevo video en...</td>\n",
       "      <td>2083</td>\n",
       "      <td>Hola a todos y bienvenidos a un nuevo video en...</td>\n",
       "      <td>2073</td>\n",
       "    </tr>\n",
       "    <tr>\n",
       "      <th>31</th>\n",
       "      <td>DOC0034</td>\n",
       "      <td>Internet de las cosas</td>\n",
       "      <td>Hola a todos, continuando con la serie de vide...</td>\n",
       "      <td>999</td>\n",
       "      <td>0.815000</td>\n",
       "      <td>Hola a todos, continuando con la serie de vide...</td>\n",
       "      <td>999</td>\n",
       "      <td>Hola a todos, continuando con la serie de vide...</td>\n",
       "      <td>989</td>\n",
       "    </tr>\n",
       "    <tr>\n",
       "      <th>70</th>\n",
       "      <td>DOC0073</td>\n",
       "      <td>NLP e IA</td>\n",
       "      <td>La inteligencia artificial cada vez avanza más...</td>\n",
       "      <td>2588</td>\n",
       "      <td>0.837255</td>\n",
       "      <td>La inteligencia artificial cada vez avanza más...</td>\n",
       "      <td>2588</td>\n",
       "      <td>La inteligencia artificial cada vez avanza más...</td>\n",
       "      <td>2568</td>\n",
       "    </tr>\n",
       "    <tr>\n",
       "      <th>72</th>\n",
       "      <td>DOC0075</td>\n",
       "      <td>NLP e IA</td>\n",
       "      <td>Hasta este momento ya tenemos muchas opciones ...</td>\n",
       "      <td>1456</td>\n",
       "      <td>0.862543</td>\n",
       "      <td>Hasta este momento ya tenemos muchas opciones ...</td>\n",
       "      <td>1456</td>\n",
       "      <td>Hasta este momento ya tenemos muchas opciones ...</td>\n",
       "      <td>1446</td>\n",
       "    </tr>\n",
       "    <tr>\n",
       "      <th>81</th>\n",
       "      <td>DOC0084</td>\n",
       "      <td>LLM</td>\n",
       "      <td>Muchos hemos oído hablar del término token cua...</td>\n",
       "      <td>2336</td>\n",
       "      <td>0.885714</td>\n",
       "      <td>Muchos hemos oído hablar del término token cua...</td>\n",
       "      <td>2336</td>\n",
       "      <td>Muchos hemos oído hablar del término token cua...</td>\n",
       "      <td>2326</td>\n",
       "    </tr>\n",
       "  </tbody>\n",
       "</table>\n",
       "</div>"
      ],
      "text/plain": [
       "     id_doc                   tema  \\\n",
       "7   DOC0008        Introduccion IA   \n",
       "31  DOC0034  Internet de las cosas   \n",
       "70  DOC0073               NLP e IA   \n",
       "72  DOC0075               NLP e IA   \n",
       "81  DOC0084                    LLM   \n",
       "\n",
       "                                        transcription  tokens  pct_esp_transc  \\\n",
       "7   Hola a todos y bienvenidos a un nuevo video en...    2083        0.927885   \n",
       "31  Hola a todos, continuando con la serie de vide...     999        0.815000   \n",
       "70  La inteligencia artificial cada vez avanza más...    2588        0.837255   \n",
       "72  Hasta este momento ya tenemos muchas opciones ...    1456        0.862543   \n",
       "81  Muchos hemos oído hablar del término token cua...    2336        0.885714   \n",
       "\n",
       "                                  transcription_filt1  tokens_filt1  \\\n",
       "7   Hola a todos y bienvenidos a un nuevo video en...          2083   \n",
       "31  Hola a todos, continuando con la serie de vide...           999   \n",
       "70  La inteligencia artificial cada vez avanza más...          2588   \n",
       "72  Hasta este momento ya tenemos muchas opciones ...          1456   \n",
       "81  Muchos hemos oído hablar del término token cua...          2336   \n",
       "\n",
       "                                  transcription_filt2  tokens_filt2  \n",
       "7   Hola a todos y bienvenidos a un nuevo video en...          2073  \n",
       "31  Hola a todos, continuando con la serie de vide...           989  \n",
       "70  La inteligencia artificial cada vez avanza más...          2568  \n",
       "72  Hasta este momento ya tenemos muchas opciones ...          1446  \n",
       "81  Muchos hemos oído hablar del término token cua...          2326  "
      ]
     },
     "execution_count": 44,
     "metadata": {},
     "output_type": "execute_result"
    }
   ],
   "source": [
    "df_transcrip[df_transcrip['tokens_filt1']!=df_transcrip['tokens_filt2']]"
   ]
  },
  {
   "cell_type": "code",
   "execution_count": null,
   "id": "f6850e46",
   "metadata": {},
   "outputs": [],
   "source": []
  },
  {
   "cell_type": "markdown",
   "id": "f34bbb1d",
   "metadata": {},
   "source": [
    "#### Guardando corpus final luego de filtros de calidad y deduplicación"
   ]
  },
  {
   "cell_type": "code",
   "execution_count": 45,
   "id": "f55532e2",
   "metadata": {},
   "outputs": [
    {
     "data": {
      "text/html": [
       "<div>\n",
       "<style scoped>\n",
       "    .dataframe tbody tr th:only-of-type {\n",
       "        vertical-align: middle;\n",
       "    }\n",
       "\n",
       "    .dataframe tbody tr th {\n",
       "        vertical-align: top;\n",
       "    }\n",
       "\n",
       "    .dataframe thead th {\n",
       "        text-align: right;\n",
       "    }\n",
       "</style>\n",
       "<table border=\"1\" class=\"dataframe\">\n",
       "  <thead>\n",
       "    <tr style=\"text-align: right;\">\n",
       "      <th></th>\n",
       "      <th>id_doc</th>\n",
       "      <th>tema</th>\n",
       "      <th>transcription_filt2</th>\n",
       "    </tr>\n",
       "  </thead>\n",
       "  <tbody>\n",
       "    <tr>\n",
       "      <th>0</th>\n",
       "      <td>DOC0001</td>\n",
       "      <td>Internet de las cosas</td>\n",
       "      <td>Bienvenidos a nuestro canal de YouTube, Intern...</td>\n",
       "    </tr>\n",
       "    <tr>\n",
       "      <th>1</th>\n",
       "      <td>DOC0002</td>\n",
       "      <td>Internet de las cosas</td>\n",
       "      <td>Bienvenidos al curso Internet de las Cosas. Mi...</td>\n",
       "    </tr>\n",
       "    <tr>\n",
       "      <th>2</th>\n",
       "      <td>DOC0003</td>\n",
       "      <td>Introduccion IA</td>\n",
       "      <td>Hola a todos y bienvenidos a un nuevo video en...</td>\n",
       "    </tr>\n",
       "  </tbody>\n",
       "</table>\n",
       "</div>"
      ],
      "text/plain": [
       "    id_doc                   tema  \\\n",
       "0  DOC0001  Internet de las cosas   \n",
       "1  DOC0002  Internet de las cosas   \n",
       "2  DOC0003        Introduccion IA   \n",
       "\n",
       "                                 transcription_filt2  \n",
       "0  Bienvenidos a nuestro canal de YouTube, Intern...  \n",
       "1  Bienvenidos al curso Internet de las Cosas. Mi...  \n",
       "2  Hola a todos y bienvenidos a un nuevo video en...  "
      ]
     },
     "execution_count": 45,
     "metadata": {},
     "output_type": "execute_result"
    }
   ],
   "source": [
    "df_transcrip[['id_doc','tema','transcription_filt2']].head(3)"
   ]
  },
  {
   "cell_type": "code",
   "execution_count": 46,
   "id": "67b5e6f9",
   "metadata": {},
   "outputs": [],
   "source": [
    "df_transcrip[['id_doc','tema','transcription_filt2']].to_csv('transformed_corpus/conjunto_transcripciones_fin.csv',\n",
    "                                                             index=False,sep='|')"
   ]
  },
  {
   "cell_type": "code",
   "execution_count": null,
   "id": "cd8deffe",
   "metadata": {},
   "outputs": [],
   "source": []
  },
  {
   "cell_type": "code",
   "execution_count": null,
   "id": "d6ce4c40",
   "metadata": {},
   "outputs": [],
   "source": []
  }
 ],
 "metadata": {
  "kernelspec": {
   "display_name": "Python 3 (ipykernel)",
   "language": "python",
   "name": "python3"
  },
  "language_info": {
   "codemirror_mode": {
    "name": "ipython",
    "version": 3
   },
   "file_extension": ".py",
   "mimetype": "text/x-python",
   "name": "python",
   "nbconvert_exporter": "python",
   "pygments_lexer": "ipython3",
   "version": "3.9.12"
  }
 },
 "nbformat": 4,
 "nbformat_minor": 5
}
